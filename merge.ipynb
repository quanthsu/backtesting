{
 "cells": [
  {
   "cell_type": "code",
   "execution_count": 1,
   "metadata": {},
   "outputs": [],
   "source": [
    "\n",
    "\n",
    "import numpy as np\n",
    "import pandas as pd\n",
    "import datetime\n",
    "import glob\n",
    "#from tqdm.auto import tqdm\n",
    "import os\n",
    "from datetime import datetime, timedelta\n",
    "import matplotlib.pyplot as plt\n",
    "import matplotlib.ticker as mticker\n",
    "#import yfinance as yf\n",
    "import plotly.graph_objects as go\n",
    "import plotly.express as px\n",
    "from plotly.subplots import make_subplots\n",
    "#from dash import Dash, html, dcc\n",
    "\n",
    "import locale\n",
    "locale.setlocale(locale.LC_ALL, 'en_US.UTF8')\n",
    "\n",
    "import warnings\n",
    "warnings.filterwarnings(\"ignore\")\n"
   ]
  },
  {
   "cell_type": "code",
   "execution_count": 33,
   "metadata": {},
   "outputs": [],
   "source": [
    "import configparser\n",
    "\n",
    "config = configparser.ConfigParser()\n",
    "config.read('strategy_config.ini')\n",
    "\n",
    "strategy_path = config['base']['path']\n",
    "merge_strategy_path = config['base']['merge_path']\n",
    "report_path = config['base']['report_path']\n",
    "report_plot_path = config['base']['report_plot_path']\n",
    "file_type = config['base']['file_type']\n",
    "strategy_report_paths = glob.glob(strategy_path + '*' + file_type)\n",
    "intraday_start_day = datetime.strptime(config['base']['intraday_start_day'], '%Y-%m-%d')\n",
    "year_days = int(config['base']['year_days'])\n",
    "transaction_cost = float(config['base']['transaction_cost'])\n",
    "\n",
    "merge_folders = glob.glob(f'./{merge_strategy_path}/*')\n"
   ]
  },
  {
   "cell_type": "code",
   "execution_count": 44,
   "metadata": {},
   "outputs": [],
   "source": []
  },
  {
   "cell_type": "code",
   "execution_count": 119,
   "metadata": {},
   "outputs": [],
   "source": [
    "\n",
    "for merge_folder in merge_folders:\n",
    "    merge_files = glob.glob(merge_folder + '/*')\n",
    "    name = merge_folder.split('\\\\')[-1]\n",
    "    daily_report_df = pd.DataFrame()\n",
    "    trading_record_df = pd.DataFrame()\n",
    "    \n",
    "    for merge_file in merge_files:\n",
    "        \n",
    "        daily_report =  pd.read_excel(merge_file, sheet_name='每日報表')\n",
    "        daily_report = daily_report[daily_report['最大投入金額'] != '0']\n",
    "        trading_record = pd.read_excel(merge_file, sheet_name='交易分析')\n",
    "\n",
    "        daily_report_df = pd.concat([daily_report_df, daily_report])\n",
    "        trading_record_df = pd.concat([trading_record_df, trading_record])\n",
    "\n",
    "    daily_report_df['日期'] = pd.to_datetime(daily_report_df['日期']) \n",
    "    daily_report_df = daily_report_df.sort_values(by=['日期'])\n",
    "    daily_report_df['最大投入金額'] = daily_report_df['最大投入金額'].replace('[\\$,]', '', regex=True).astype(float)\n",
    "    daily_report_df = daily_report_df.drop_duplicates(subset=['日期', '獲利'])\n",
    "    daily_report_df = daily_report_df[['日期', '獲利', '最大投入金額', '商品檔數']]\n",
    "    daily_report_df = daily_report_df.reset_index(drop=True)\n",
    "    daily_report_df['最大投入金額'] = daily_report_df['最大投入金額'].cummax()\n",
    "\n",
    "    trading_record_df['進場時間'] = pd.to_datetime(trading_record_df['進場時間']) \n",
    "    trading_record_df = trading_record_df.sort_values(by=['進場時間'])\n",
    "    trading_record_df = trading_record_df.reset_index(drop=True)\n",
    "\n",
    "    with pd.ExcelWriter(strategy_path + f'{name}.xlsx') as writer:  \n",
    "        daily_report_df.to_excel(writer, sheet_name='每日報表', index=None)\n",
    "        trading_record_df.to_excel(writer, sheet_name='交易分析', index=None)\n",
    "        "
   ]
  },
  {
   "cell_type": "code",
   "execution_count": null,
   "metadata": {},
   "outputs": [],
   "source": []
  }
 ],
 "metadata": {
  "kernelspec": {
   "display_name": "Python 3.7.13 ('pyinstaller')",
   "language": "python",
   "name": "python3"
  },
  "language_info": {
   "codemirror_mode": {
    "name": "ipython",
    "version": 3
   },
   "file_extension": ".py",
   "mimetype": "text/x-python",
   "name": "python",
   "nbconvert_exporter": "python",
   "pygments_lexer": "ipython3",
   "version": "3.7.13"
  },
  "orig_nbformat": 4,
  "vscode": {
   "interpreter": {
    "hash": "35719d67aeea1b1e311ac9414e684a281fccb2ff64f01a861a9a136214f68070"
   }
  }
 },
 "nbformat": 4,
 "nbformat_minor": 2
}
