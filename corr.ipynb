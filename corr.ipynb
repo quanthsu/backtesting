{
 "cells": [
  {
   "cell_type": "code",
   "execution_count": 8,
   "metadata": {},
   "outputs": [],
   "source": [
    "import pandas as pd\n",
    "import numpy as np\n",
    "import os\n",
    "from datetime import datetime, timedelta"
   ]
  },
  {
   "cell_type": "code",
   "execution_count": 6,
   "metadata": {},
   "outputs": [],
   "source": [
    "import configparser\n",
    "\n",
    "config = configparser.ConfigParser()\n",
    "config.read('strategy_config.ini')\n",
    "twa02_path = config['base']['twa02_path']"
   ]
  },
  {
   "cell_type": "code",
   "execution_count": 4,
   "metadata": {},
   "outputs": [],
   "source": [
    "def get_twa02():\n",
    "    def preprocess(daily_df):\n",
    "        stock_ids = list(daily_df['股票代號'].astype('str'))\n",
    "        date_indexes = daily_df.iloc[:,2:].columns\n",
    "        date_indexes = [datetime.strptime(date_index[:8], \"%Y%m%d\") for date_index in date_indexes]\n",
    "        daily_df = daily_df.T.iloc[2:, :]\n",
    "        daily_df.columns = stock_ids\n",
    "        daily_df.index = date_indexes\n",
    "        return daily_df\n",
    "\n",
    "    twa_close_df = pd.read_excel(twa02_path, sheet_name='close', header=4).dropna()\n",
    "    twa_close_df = preprocess(twa_close_df)\n",
    "    twa_close_df['TWA02_profit'] = (twa_close_df['TWA02'] - twa_close_df['TWA02'].shift(1)).astype(float)\n",
    "    twa_close_df['Date'] = twa_close_df.index\n",
    "    return twa_close_df"
   ]
  },
  {
   "cell_type": "code",
   "execution_count": 9,
   "metadata": {},
   "outputs": [
    {
     "data": {
      "text/html": [
       "<div>\n",
       "<style scoped>\n",
       "    .dataframe tbody tr th:only-of-type {\n",
       "        vertical-align: middle;\n",
       "    }\n",
       "\n",
       "    .dataframe tbody tr th {\n",
       "        vertical-align: top;\n",
       "    }\n",
       "\n",
       "    .dataframe thead th {\n",
       "        text-align: right;\n",
       "    }\n",
       "</style>\n",
       "<table border=\"1\" class=\"dataframe\">\n",
       "  <thead>\n",
       "    <tr style=\"text-align: right;\">\n",
       "      <th></th>\n",
       "      <th>TWA02</th>\n",
       "      <th>TWA02_profit</th>\n",
       "      <th>Date</th>\n",
       "    </tr>\n",
       "  </thead>\n",
       "  <tbody>\n",
       "    <tr>\n",
       "      <th>2015-01-05</th>\n",
       "      <td>14121.9</td>\n",
       "      <td>NaN</td>\n",
       "      <td>2015-01-05</td>\n",
       "    </tr>\n",
       "    <tr>\n",
       "      <th>2015-01-06</th>\n",
       "      <td>13778.1</td>\n",
       "      <td>-343.78</td>\n",
       "      <td>2015-01-06</td>\n",
       "    </tr>\n",
       "    <tr>\n",
       "      <th>2015-01-07</th>\n",
       "      <td>13826.5</td>\n",
       "      <td>48.34</td>\n",
       "      <td>2015-01-07</td>\n",
       "    </tr>\n",
       "    <tr>\n",
       "      <th>2015-01-08</th>\n",
       "      <td>14067</td>\n",
       "      <td>240.51</td>\n",
       "      <td>2015-01-08</td>\n",
       "    </tr>\n",
       "    <tr>\n",
       "      <th>2015-01-09</th>\n",
       "      <td>14032.8</td>\n",
       "      <td>-34.19</td>\n",
       "      <td>2015-01-09</td>\n",
       "    </tr>\n",
       "    <tr>\n",
       "      <th>...</th>\n",
       "      <td>...</td>\n",
       "      <td>...</td>\n",
       "      <td>...</td>\n",
       "    </tr>\n",
       "    <tr>\n",
       "      <th>2023-05-03</th>\n",
       "      <td>32435.8</td>\n",
       "      <td>-173.25</td>\n",
       "      <td>2023-05-03</td>\n",
       "    </tr>\n",
       "    <tr>\n",
       "      <th>2023-05-04</th>\n",
       "      <td>32551.8</td>\n",
       "      <td>116.00</td>\n",
       "      <td>2023-05-04</td>\n",
       "    </tr>\n",
       "    <tr>\n",
       "      <th>2023-05-05</th>\n",
       "      <td>32587.3</td>\n",
       "      <td>35.52</td>\n",
       "      <td>2023-05-05</td>\n",
       "    </tr>\n",
       "    <tr>\n",
       "      <th>2023-05-08</th>\n",
       "      <td>32740.6</td>\n",
       "      <td>153.28</td>\n",
       "      <td>2023-05-08</td>\n",
       "    </tr>\n",
       "    <tr>\n",
       "      <th>2023-05-09</th>\n",
       "      <td>32799.2</td>\n",
       "      <td>58.66</td>\n",
       "      <td>2023-05-09</td>\n",
       "    </tr>\n",
       "  </tbody>\n",
       "</table>\n",
       "<p>2035 rows × 3 columns</p>\n",
       "</div>"
      ],
      "text/plain": [
       "              TWA02  TWA02_profit       Date\n",
       "2015-01-05  14121.9           NaN 2015-01-05\n",
       "2015-01-06  13778.1       -343.78 2015-01-06\n",
       "2015-01-07  13826.5         48.34 2015-01-07\n",
       "2015-01-08    14067        240.51 2015-01-08\n",
       "2015-01-09  14032.8        -34.19 2015-01-09\n",
       "...             ...           ...        ...\n",
       "2023-05-03  32435.8       -173.25 2023-05-03\n",
       "2023-05-04  32551.8        116.00 2023-05-04\n",
       "2023-05-05  32587.3         35.52 2023-05-05\n",
       "2023-05-08  32740.6        153.28 2023-05-08\n",
       "2023-05-09  32799.2         58.66 2023-05-09\n",
       "\n",
       "[2035 rows x 3 columns]"
      ]
     },
     "execution_count": 9,
     "metadata": {},
     "output_type": "execute_result"
    }
   ],
   "source": [
    "get_twa02()"
   ]
  },
  {
   "cell_type": "code",
   "execution_count": null,
   "metadata": {},
   "outputs": [],
   "source": []
  }
 ],
 "metadata": {
  "kernelspec": {
   "display_name": "Python 3.7.0 ('base')",
   "language": "python",
   "name": "python3"
  },
  "language_info": {
   "codemirror_mode": {
    "name": "ipython",
    "version": 3
   },
   "file_extension": ".py",
   "mimetype": "text/x-python",
   "name": "python",
   "nbconvert_exporter": "python",
   "pygments_lexer": "ipython3",
   "version": "3.7.0"
  },
  "orig_nbformat": 4,
  "vscode": {
   "interpreter": {
    "hash": "8447ca19da3ee0aee90e44cfd2e8df4e9a58a16ee661fecf48780de450ea5738"
   }
  }
 },
 "nbformat": 4,
 "nbformat_minor": 2
}
